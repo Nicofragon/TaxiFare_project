{
 "cells": [
  {
   "cell_type": "code",
   "execution_count": 1,
   "id": "40f54238",
   "metadata": {
    "ExecuteTime": {
     "end_time": "2022-02-02T15:39:57.066037Z",
     "start_time": "2022-02-02T15:39:57.035681Z"
    }
   },
   "outputs": [],
   "source": [
    "%load_ext autoreload \n",
    "%autoreload 2"
   ]
  },
  {
   "cell_type": "code",
   "execution_count": 2,
   "id": "12145182",
   "metadata": {
    "ExecuteTime": {
     "end_time": "2022-02-02T15:45:36.784932Z",
     "start_time": "2022-02-02T15:45:36.631365Z"
    }
   },
   "outputs": [
    {
     "ename": "ImportError",
     "evalue": "attempted relative import with no known parent package",
     "output_type": "error",
     "traceback": [
      "\u001b[0;31m---------------------------------------------------------------------------\u001b[0m",
      "\u001b[0;31mImportError\u001b[0m                               Traceback (most recent call last)",
      "\u001b[0;32m/var/folders/fm/05lsctd57gg86jcr1y1_bv5xth0pg5/T/ipykernel_56619/1115288661.py\u001b[0m in \u001b[0;36m<module>\u001b[0;34m\u001b[0m\n\u001b[0;32m----> 1\u001b[0;31m \u001b[0;32mfrom\u001b[0m \u001b[0;34m.\u001b[0m\u001b[0;34m.\u001b[0m\u001b[0mTaxiFareModel\u001b[0m\u001b[0;34m.\u001b[0m\u001b[0mdata_\u001b[0m \u001b[0;32mimport\u001b[0m \u001b[0mget_data\u001b[0m\u001b[0;34m\u001b[0m\u001b[0;34m\u001b[0m\u001b[0m\n\u001b[0m",
      "\u001b[0;31mImportError\u001b[0m: attempted relative import with no known parent package"
     ]
    }
   ],
   "source": [
    "from ..TaxiFareModel.data_ import get_data"
   ]
  },
  {
   "cell_type": "code",
   "execution_count": 1,
   "id": "ffdddc28",
   "metadata": {
    "ExecuteTime": {
     "end_time": "2022-02-03T15:25:32.518134Z",
     "start_time": "2022-02-03T15:25:32.000943Z"
    }
   },
   "outputs": [],
   "source": [
    "import pandas as pd"
   ]
  },
  {
   "cell_type": "code",
   "execution_count": 3,
   "id": "aec9eea1",
   "metadata": {
    "ExecuteTime": {
     "end_time": "2022-02-03T15:25:37.699032Z",
     "start_time": "2022-02-03T15:25:37.690624Z"
    }
   },
   "outputs": [],
   "source": [
    "df = pd.read_csv('../raw_data/train_1k.csv')"
   ]
  },
  {
   "cell_type": "code",
   "execution_count": 4,
   "id": "038377a0",
   "metadata": {
    "ExecuteTime": {
     "end_time": "2022-02-03T15:25:42.718376Z",
     "start_time": "2022-02-03T15:25:42.685273Z"
    }
   },
   "outputs": [
    {
     "data": {
      "text/html": [
       "<div>\n",
       "<style scoped>\n",
       "    .dataframe tbody tr th:only-of-type {\n",
       "        vertical-align: middle;\n",
       "    }\n",
       "\n",
       "    .dataframe tbody tr th {\n",
       "        vertical-align: top;\n",
       "    }\n",
       "\n",
       "    .dataframe thead th {\n",
       "        text-align: right;\n",
       "    }\n",
       "</style>\n",
       "<table border=\"1\" class=\"dataframe\">\n",
       "  <thead>\n",
       "    <tr style=\"text-align: right;\">\n",
       "      <th></th>\n",
       "      <th>key</th>\n",
       "      <th>fare_amount</th>\n",
       "      <th>pickup_datetime</th>\n",
       "      <th>pickup_longitude</th>\n",
       "      <th>pickup_latitude</th>\n",
       "      <th>dropoff_longitude</th>\n",
       "      <th>dropoff_latitude</th>\n",
       "      <th>passenger_count</th>\n",
       "    </tr>\n",
       "  </thead>\n",
       "  <tbody>\n",
       "    <tr>\n",
       "      <th>0</th>\n",
       "      <td>2009-06-15 17:26:21.0000001</td>\n",
       "      <td>4.5</td>\n",
       "      <td>2009-06-15 17:26:21 UTC</td>\n",
       "      <td>-73.844311</td>\n",
       "      <td>40.721319</td>\n",
       "      <td>-73.841610</td>\n",
       "      <td>40.712278</td>\n",
       "      <td>1</td>\n",
       "    </tr>\n",
       "    <tr>\n",
       "      <th>1</th>\n",
       "      <td>2010-01-05 16:52:16.0000002</td>\n",
       "      <td>16.9</td>\n",
       "      <td>2010-01-05 16:52:16 UTC</td>\n",
       "      <td>-74.016048</td>\n",
       "      <td>40.711303</td>\n",
       "      <td>-73.979268</td>\n",
       "      <td>40.782004</td>\n",
       "      <td>1</td>\n",
       "    </tr>\n",
       "    <tr>\n",
       "      <th>2</th>\n",
       "      <td>2011-08-18 00:35:00.00000049</td>\n",
       "      <td>5.7</td>\n",
       "      <td>2011-08-18 00:35:00 UTC</td>\n",
       "      <td>-73.982738</td>\n",
       "      <td>40.761270</td>\n",
       "      <td>-73.991242</td>\n",
       "      <td>40.750562</td>\n",
       "      <td>2</td>\n",
       "    </tr>\n",
       "    <tr>\n",
       "      <th>3</th>\n",
       "      <td>2012-04-21 04:30:42.0000001</td>\n",
       "      <td>7.7</td>\n",
       "      <td>2012-04-21 04:30:42 UTC</td>\n",
       "      <td>-73.987130</td>\n",
       "      <td>40.733143</td>\n",
       "      <td>-73.991567</td>\n",
       "      <td>40.758092</td>\n",
       "      <td>1</td>\n",
       "    </tr>\n",
       "    <tr>\n",
       "      <th>4</th>\n",
       "      <td>2010-03-09 07:51:00.000000135</td>\n",
       "      <td>5.3</td>\n",
       "      <td>2010-03-09 07:51:00 UTC</td>\n",
       "      <td>-73.968095</td>\n",
       "      <td>40.768008</td>\n",
       "      <td>-73.956655</td>\n",
       "      <td>40.783762</td>\n",
       "      <td>1</td>\n",
       "    </tr>\n",
       "    <tr>\n",
       "      <th>...</th>\n",
       "      <td>...</td>\n",
       "      <td>...</td>\n",
       "      <td>...</td>\n",
       "      <td>...</td>\n",
       "      <td>...</td>\n",
       "      <td>...</td>\n",
       "      <td>...</td>\n",
       "      <td>...</td>\n",
       "    </tr>\n",
       "    <tr>\n",
       "      <th>995</th>\n",
       "      <td>2011-07-30 07:33:13.0000001</td>\n",
       "      <td>16.9</td>\n",
       "      <td>2011-07-30 07:33:13 UTC</td>\n",
       "      <td>-73.884801</td>\n",
       "      <td>40.755707</td>\n",
       "      <td>-73.980472</td>\n",
       "      <td>40.765556</td>\n",
       "      <td>1</td>\n",
       "    </tr>\n",
       "    <tr>\n",
       "      <th>996</th>\n",
       "      <td>2011-09-24 23:20:00.000000112</td>\n",
       "      <td>13.7</td>\n",
       "      <td>2011-09-24 23:20:00 UTC</td>\n",
       "      <td>-73.953603</td>\n",
       "      <td>40.779203</td>\n",
       "      <td>-73.995763</td>\n",
       "      <td>40.726701</td>\n",
       "      <td>3</td>\n",
       "    </tr>\n",
       "    <tr>\n",
       "      <th>997</th>\n",
       "      <td>2011-12-22 11:07:00.00000037</td>\n",
       "      <td>29.3</td>\n",
       "      <td>2011-12-22 11:07:00 UTC</td>\n",
       "      <td>-73.942380</td>\n",
       "      <td>40.837712</td>\n",
       "      <td>-73.864372</td>\n",
       "      <td>40.769985</td>\n",
       "      <td>2</td>\n",
       "    </tr>\n",
       "    <tr>\n",
       "      <th>998</th>\n",
       "      <td>2014-11-03 12:40:00.00000014</td>\n",
       "      <td>6.5</td>\n",
       "      <td>2014-11-03 12:40:00 UTC</td>\n",
       "      <td>-73.961151</td>\n",
       "      <td>40.774578</td>\n",
       "      <td>-73.972251</td>\n",
       "      <td>40.785640</td>\n",
       "      <td>1</td>\n",
       "    </tr>\n",
       "    <tr>\n",
       "      <th>999</th>\n",
       "      <td>2012-05-18 18:41:30.0000006</td>\n",
       "      <td>10.9</td>\n",
       "      <td>2012-05-18 18:41:30 UTC</td>\n",
       "      <td>-73.988455</td>\n",
       "      <td>40.758432</td>\n",
       "      <td>-73.983816</td>\n",
       "      <td>40.730147</td>\n",
       "      <td>1</td>\n",
       "    </tr>\n",
       "  </tbody>\n",
       "</table>\n",
       "<p>1000 rows × 8 columns</p>\n",
       "</div>"
      ],
      "text/plain": [
       "                               key  fare_amount          pickup_datetime  \\\n",
       "0      2009-06-15 17:26:21.0000001          4.5  2009-06-15 17:26:21 UTC   \n",
       "1      2010-01-05 16:52:16.0000002         16.9  2010-01-05 16:52:16 UTC   \n",
       "2     2011-08-18 00:35:00.00000049          5.7  2011-08-18 00:35:00 UTC   \n",
       "3      2012-04-21 04:30:42.0000001          7.7  2012-04-21 04:30:42 UTC   \n",
       "4    2010-03-09 07:51:00.000000135          5.3  2010-03-09 07:51:00 UTC   \n",
       "..                             ...          ...                      ...   \n",
       "995    2011-07-30 07:33:13.0000001         16.9  2011-07-30 07:33:13 UTC   \n",
       "996  2011-09-24 23:20:00.000000112         13.7  2011-09-24 23:20:00 UTC   \n",
       "997   2011-12-22 11:07:00.00000037         29.3  2011-12-22 11:07:00 UTC   \n",
       "998   2014-11-03 12:40:00.00000014          6.5  2014-11-03 12:40:00 UTC   \n",
       "999    2012-05-18 18:41:30.0000006         10.9  2012-05-18 18:41:30 UTC   \n",
       "\n",
       "     pickup_longitude  pickup_latitude  dropoff_longitude  dropoff_latitude  \\\n",
       "0          -73.844311        40.721319         -73.841610         40.712278   \n",
       "1          -74.016048        40.711303         -73.979268         40.782004   \n",
       "2          -73.982738        40.761270         -73.991242         40.750562   \n",
       "3          -73.987130        40.733143         -73.991567         40.758092   \n",
       "4          -73.968095        40.768008         -73.956655         40.783762   \n",
       "..                ...              ...                ...               ...   \n",
       "995        -73.884801        40.755707         -73.980472         40.765556   \n",
       "996        -73.953603        40.779203         -73.995763         40.726701   \n",
       "997        -73.942380        40.837712         -73.864372         40.769985   \n",
       "998        -73.961151        40.774578         -73.972251         40.785640   \n",
       "999        -73.988455        40.758432         -73.983816         40.730147   \n",
       "\n",
       "     passenger_count  \n",
       "0                  1  \n",
       "1                  1  \n",
       "2                  2  \n",
       "3                  1  \n",
       "4                  1  \n",
       "..               ...  \n",
       "995                1  \n",
       "996                3  \n",
       "997                2  \n",
       "998                1  \n",
       "999                1  \n",
       "\n",
       "[1000 rows x 8 columns]"
      ]
     },
     "execution_count": 4,
     "metadata": {},
     "output_type": "execute_result"
    }
   ],
   "source": [
    "df"
   ]
  },
  {
   "cell_type": "code",
   "execution_count": 7,
   "id": "9d213405",
   "metadata": {
    "ExecuteTime": {
     "end_time": "2022-02-03T15:28:29.437757Z",
     "start_time": "2022-02-03T15:28:29.434570Z"
    }
   },
   "outputs": [],
   "source": [
    "from TaxiFareModel.data_ import get_data, clean_data"
   ]
  },
  {
   "cell_type": "code",
   "execution_count": 8,
   "id": "dba633db",
   "metadata": {
    "ExecuteTime": {
     "end_time": "2022-02-03T15:28:36.475187Z",
     "start_time": "2022-02-03T15:28:36.446856Z"
    }
   },
   "outputs": [
    {
     "data": {
      "text/plain": [
       "(                               key          pickup_datetime  pickup_longitude  \\\n",
       " 0      2009-06-15 17:26:21.0000001  2009-06-15 17:26:21 UTC        -73.844311   \n",
       " 1      2010-01-05 16:52:16.0000002  2010-01-05 16:52:16 UTC        -74.016048   \n",
       " 2     2011-08-18 00:35:00.00000049  2011-08-18 00:35:00 UTC        -73.982738   \n",
       " 3      2012-04-21 04:30:42.0000001  2012-04-21 04:30:42 UTC        -73.987130   \n",
       " 4    2010-03-09 07:51:00.000000135  2010-03-09 07:51:00 UTC        -73.968095   \n",
       " ..                             ...                      ...               ...   \n",
       " 995    2011-07-30 07:33:13.0000001  2011-07-30 07:33:13 UTC        -73.884801   \n",
       " 996  2011-09-24 23:20:00.000000112  2011-09-24 23:20:00 UTC        -73.953603   \n",
       " 997   2011-12-22 11:07:00.00000037  2011-12-22 11:07:00 UTC        -73.942380   \n",
       " 998   2014-11-03 12:40:00.00000014  2014-11-03 12:40:00 UTC        -73.961151   \n",
       " 999    2012-05-18 18:41:30.0000006  2012-05-18 18:41:30 UTC        -73.988455   \n",
       " \n",
       "      pickup_latitude  dropoff_longitude  dropoff_latitude  passenger_count  \n",
       " 0          40.721319         -73.841610         40.712278                1  \n",
       " 1          40.711303         -73.979268         40.782004                1  \n",
       " 2          40.761270         -73.991242         40.750562                2  \n",
       " 3          40.733143         -73.991567         40.758092                1  \n",
       " 4          40.768008         -73.956655         40.783762                1  \n",
       " ..               ...                ...               ...              ...  \n",
       " 995        40.755707         -73.980472         40.765556                1  \n",
       " 996        40.779203         -73.995763         40.726701                3  \n",
       " 997        40.837712         -73.864372         40.769985                2  \n",
       " 998        40.774578         -73.972251         40.785640                1  \n",
       " 999        40.758432         -73.983816         40.730147                1  \n",
       " \n",
       " [837 rows x 7 columns],\n",
       " 0       4.5\n",
       " 1      16.9\n",
       " 2       5.7\n",
       " 3       7.7\n",
       " 4       5.3\n",
       "        ... \n",
       " 995    16.9\n",
       " 996    13.7\n",
       " 997    29.3\n",
       " 998     6.5\n",
       " 999    10.9\n",
       " Name: fare_amount, Length: 837, dtype: float64)"
      ]
     },
     "execution_count": 8,
     "metadata": {},
     "output_type": "execute_result"
    }
   ],
   "source": [
    "clean_data(get_data())"
   ]
  },
  {
   "cell_type": "code",
   "execution_count": null,
   "id": "2160e0f9",
   "metadata": {},
   "outputs": [],
   "source": []
  }
 ],
 "metadata": {
  "hide_input": false,
  "kernelspec": {
   "display_name": "Python 3 (ipykernel)",
   "language": "python",
   "name": "python3"
  },
  "language_info": {
   "codemirror_mode": {
    "name": "ipython",
    "version": 3
   },
   "file_extension": ".py",
   "mimetype": "text/x-python",
   "name": "python",
   "nbconvert_exporter": "python",
   "pygments_lexer": "ipython3",
   "version": "3.8.12"
  },
  "toc": {
   "base_numbering": 1,
   "nav_menu": {},
   "number_sections": true,
   "sideBar": true,
   "skip_h1_title": false,
   "title_cell": "Table of Contents",
   "title_sidebar": "Contents",
   "toc_cell": false,
   "toc_position": {},
   "toc_section_display": true,
   "toc_window_display": false
  }
 },
 "nbformat": 4,
 "nbformat_minor": 5
}
